{
 "cells": [
  {
   "cell_type": "code",
   "execution_count": 2,
   "metadata": {},
   "outputs": [],
   "source": [
    "import tiktoken             # 导入分词工具\n",
    "import torch"
   ]
  },
  {
   "cell_type": "code",
   "execution_count": 3,
   "metadata": {},
   "outputs": [],
   "source": [
    "# 自定义数据集\n",
    "\n",
    "class DataLoaderLite():\n",
    "    \n",
    "    def __init__(self, B, T):\n",
    "        self.B = B\n",
    "        self.T = T\n",
    "\n",
    "        # 从训练数据中加载数据\n",
    "        with open('input.txt', 'r') as f:\n",
    "            text = f.read()\n",
    "        \n",
    "        # 先进行分词\n",
    "        enc = tiktoken.get_encoding('gpt2')\n",
    "        tokens = enc.encode(text)\n",
    "\n",
    "        # 将分词后的token转为tensor格式\n",
    "        self.tokens = torch.tensor(tokens)\n",
    "        \n",
    "        # 打印显示有多少tokens\n",
    "        print(f\"loaded {len(self.tokens)} tokens\")\n",
    "        print(f\"1 epoch = {len(self.tokens) // (B * T)} batchs\")\n",
    "\n",
    "        # 标记已经用过的数据\n",
    "        self.current_position = 0\n",
    "\n",
    "    def next_batch(self):\n",
    "        B, T = self.B, self.T\n",
    "        # 准备输入和标签\n",
    "        buf = self.tokens[self.current_position : self.current_position+B*T+1]\n",
    "        x = (buf[:-1]).view(B, T)\n",
    "        y = (buf[1:]).view(B, T)\n",
    "\n",
    "        # 下一批用新的数据\n",
    "        self.current_position += B * T\n",
    "\n",
    "        # 如果1个epoch用完了，则计数器归零\n",
    "        if self.current_position + (B * T + 1) > len(self.tokens):\n",
    "            self.current_position = 0\n",
    "        \n",
    "        return x, y\n"
   ]
  },
  {
   "cell_type": "code",
   "execution_count": 24,
   "metadata": {},
   "outputs": [
    {
     "name": "stdout",
     "output_type": "stream",
     "text": [
      "loaded 338025 tokens\n",
      "1 epoch = 26 batchs\n",
      "12800\n"
     ]
    }
   ],
   "source": [
    "train_loader = DataLoaderLite(40, 320)\n",
    "for i in range(1):\n",
    "    x, y = train_loader.next_batch()\n",
    "    z = train_loader.current_position\n",
    "    print(z) "
   ]
  }
 ],
 "metadata": {
  "kernelspec": {
   "display_name": "gpt2",
   "language": "python",
   "name": "gpt2"
  },
  "language_info": {
   "codemirror_mode": {
    "name": "ipython",
    "version": 3
   },
   "file_extension": ".py",
   "mimetype": "text/x-python",
   "name": "python",
   "nbconvert_exporter": "python",
   "pygments_lexer": "ipython3",
   "version": "3.11.9"
  }
 },
 "nbformat": 4,
 "nbformat_minor": 2
}
