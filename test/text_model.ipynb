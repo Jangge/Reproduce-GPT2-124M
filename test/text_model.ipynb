{
 "cells": [
  {
   "cell_type": "code",
   "execution_count": 1,
   "metadata": {},
   "outputs": [],
   "source": [
    "from GPT2 import GPT, GPTConfig\n",
    "import torch\n",
    "import torch.nn as nn\n",
    "from torch.nn import functional as F"
   ]
  },
  {
   "cell_type": "markdown",
   "metadata": {},
   "source": [
    "### 1、测试模型框架搭建的是否合理，能否加载Huggface的gpt2预训练权重"
   ]
  },
  {
   "cell_type": "code",
   "execution_count": 2,
   "metadata": {},
   "outputs": [
    {
     "name": "stdout",
     "output_type": "stream",
     "text": [
      "loading weights from pretrained gpt: gpt2\n"
     ]
    },
    {
     "data": {
      "text/plain": [
       "GPT(\n",
       "  (transformer): ModuleDict(\n",
       "    (wte): Embedding(50257, 768)\n",
       "    (wpe): Embedding(1024, 768)\n",
       "    (h): ModuleList(\n",
       "      (0-11): 12 x Block(\n",
       "        (ln_1): LayerNorm((768,), eps=1e-05, elementwise_affine=True)\n",
       "        (attn): CausalSelfAttention(\n",
       "          (c_attn): Linear(in_features=768, out_features=2304, bias=True)\n",
       "          (c_proj): Linear(in_features=768, out_features=768, bias=True)\n",
       "        )\n",
       "        (ln_2): LayerNorm((768,), eps=1e-05, elementwise_affine=True)\n",
       "        (mlp): MLP(\n",
       "          (c_fc): Linear(in_features=768, out_features=3072, bias=True)\n",
       "          (gelu): GELU(approximate='tanh')\n",
       "          (c_proj): Linear(in_features=3072, out_features=768, bias=True)\n",
       "        )\n",
       "      )\n",
       "    )\n",
       "    (ln_f): LayerNorm((768,), eps=1e-05, elementwise_affine=True)\n",
       "  )\n",
       "  (lm_head): Linear(in_features=768, out_features=50257, bias=False)\n",
       ")"
      ]
     },
     "execution_count": 2,
     "metadata": {},
     "output_type": "execute_result"
    }
   ],
   "source": [
    "num_return_sequences = 5\n",
    "max_length = 30\n",
    "\n",
    "\n",
    "model = GPT.from_pretrained('gpt2')\n",
    "\n",
    "model.eval()\n",
    "model.to('cuda')"
   ]
  },
  {
   "cell_type": "markdown",
   "metadata": {},
   "source": [
    "# -------------------------------------------------------------"
   ]
  },
  {
   "cell_type": "markdown",
   "metadata": {},
   "source": [
    "### 2、给一段文本，测试能否使用预训练的权重进行回答"
   ]
  },
  {
   "cell_type": "code",
   "execution_count": 3,
   "metadata": {},
   "outputs": [],
   "source": [
    "num_return_sequences = 5\n",
    "max_length = 30\n",
    "\n",
    "model = GPT.from_pretrained('gpt2')\n",
    "\n",
    "model.eval()\n",
    "model.to('cuda')\n",
    "\n",
    "import tiktoken\n",
    "enc = tiktoken.get_encoding('gpt2')\n",
    "tokens = enc.encode(\"Hello, I`m a language model,\")\n",
    "tokens = torch.tensor(tokens, dtype=torch.long) #(8,)\n",
    "tokens = tokens.unsqueeze(0).repeat(num_return_sequences, 1) #(5, 8)\n",
    "x = tokens.to('cuda')"
   ]
  },
  {
   "cell_type": "code",
   "execution_count": 6,
   "metadata": {},
   "outputs": [],
   "source": [
    "# 生成回答\n",
    "torch.manual_seed(42)\n",
    "torch.cuda.manual_seed(42)\n",
    "\n",
    "while x.size(1) < max_length:\n",
    "    # 前向传播获取logits\n",
    "    logits, _ = model(x)\n",
    "\n",
    "    logits = logits[:, -1, :] # (B, vocab_size)\n",
    "\n",
    "    # softmax操作\n",
    "    probs = F.softmax(logits, dim=-1)\n",
    "\n",
    "    # 选择前50个， 最有可能的预测\n",
    "    topk_probs, topk_indices = torch.topk(probs, 50, dim=-1)\n",
    "\n",
    "    # 从50个中选择一个\n",
    "    ix = torch.multinomial(topk_probs, 1)\n",
    "\n",
    "    # \n",
    "    xcol = torch.gather(topk_indices, -1, ix)\n",
    "\n",
    "    x = torch.cat((x, xcol), dim=1)\n"
   ]
  },
  {
   "cell_type": "code",
   "execution_count": 7,
   "metadata": {},
   "outputs": [
    {
     "name": "stdout",
     "output_type": "stream",
     "text": [
      "> Hello, I`m a language model, and I like to write programs for you if you're interested in building. You can learn more about programming\n",
      "> Hello, I`m a language model, not a database. So I want to make a programming language. This is my goal: to create systems\n",
      "> Hello, I`m a language model, not a science.\"\n",
      "\n",
      "Mitt Romney spoke with the Associated Press, saying he does not believe that\n",
      "> Hello, I`m a language model, you guessed it.\n",
      "\n",
      "The code below breaks down the way to implement this object into a full set\n",
      "> Hello, I`m a language model, a language model based on Python, for every class in the database. How do you think this language is\n"
     ]
    }
   ],
   "source": [
    "for i in range(num_return_sequences):\n",
    "    tokens = x[i, :max_length].tolist()\n",
    "    decoded = enc.decode(tokens)\n",
    "    print(\">\", decoded)"
   ]
  },
  {
   "cell_type": "markdown",
   "metadata": {},
   "source": [
    "# -------------------------------------------------------------"
   ]
  },
  {
   "cell_type": "markdown",
   "metadata": {},
   "source": [
    "### 3、从小的数据集中拉取一些数据，分词处理后，测试模型输出的logits是否正常，loss是否正常"
   ]
  },
  {
   "cell_type": "code",
   "execution_count": 8,
   "metadata": {},
   "outputs": [],
   "source": [
    "device = ('cuda' if torch.cuda.is_available() else 'cpu')\n",
    "\n",
    "# 准备小批量数据\n",
    "import tiktoken\n",
    "\n",
    "enc = tiktoken.get_encoding('gpt2')\n",
    "with open('input.txt', 'r') as  f:\n",
    "    text = f.read()\n",
    "\n",
    "data = text[:1000]\n",
    "tokens = enc.encode(data)\n",
    "\n",
    "B, T = 4, 32            # 批量为4， 序列长度为32\n",
    "\n",
    "import torch\n",
    "buf = torch.tensor(tokens[:B*T + 1])     # 先转成tensor格式\n",
    "x = buf[:-1].view(B, T)                 # 小批量的输入，直接调整张量形状就可以做到分出批量了\n",
    "y = buf[1:].view(B, T) \n",
    "\n",
    "x = x.to(device)\n",
    "y = y.to(device)\n"
   ]
  },
  {
   "cell_type": "code",
   "execution_count": 9,
   "metadata": {},
   "outputs": [
    {
     "name": "stdout",
     "output_type": "stream",
     "text": [
      "torch.Size([4, 32, 50257])\n",
      "tensor(10.9840, device='cuda:0', grad_fn=<NllLossBackward0>)\n"
     ]
    }
   ],
   "source": [
    "# 查看输出和损失是否正常\n",
    "model = GPT(GPTConfig)\n",
    "model.to(device)\n",
    "logits, loss  = model(x, y)\n",
    " \n",
    "print(logits.shape)\n",
    "print(loss)"
   ]
  },
  {
   "cell_type": "markdown",
   "metadata": {},
   "source": [
    "# -------------------------------------------------------------"
   ]
  },
  {
   "cell_type": "markdown",
   "metadata": {},
   "source": [
    "### 4、构建一个简单的循环测试模型参数能否正常更新"
   ]
  },
  {
   "cell_type": "code",
   "execution_count": 14,
   "metadata": {},
   "outputs": [
    {
     "name": "stdout",
     "output_type": "stream",
     "text": [
      "step 0, loss:0.0015552322147414088\n",
      "step 1, loss:0.12253555655479431\n",
      "step 2, loss:0.007488030008971691\n",
      "step 3, loss:0.0035188908223062754\n",
      "step 4, loss:0.0046402993611991405\n",
      "step 5, loss:0.004251120612025261\n",
      "step 6, loss:0.003709079697728157\n",
      "step 7, loss:0.0033120911102741957\n",
      "step 8, loss:0.002933483337983489\n",
      "step 9, loss:0.002520725829526782\n",
      "step 10, loss:0.0021545328199863434\n",
      "step 11, loss:0.0018859220435842872\n",
      "step 12, loss:0.0016903379000723362\n",
      "step 13, loss:0.0015348225133493543\n",
      "step 14, loss:0.001398595399223268\n",
      "step 15, loss:0.0012718155048787594\n",
      "step 16, loss:0.001152080250903964\n",
      "step 17, loss:0.0010405817301943898\n",
      "step 18, loss:0.0009397428366355598\n",
      "step 19, loss:0.0008509515319019556\n",
      "step 20, loss:0.0007745805778540671\n",
      "step 21, loss:0.00070955790579319\n",
      "step 22, loss:0.0006544988718815148\n",
      "step 23, loss:0.0006077433936297894\n",
      "step 24, loss:0.0005677159642800689\n",
      "step 25, loss:0.0005328723345883191\n",
      "step 26, loss:0.0005021595861762762\n",
      "step 27, loss:0.0004746438644360751\n",
      "step 28, loss:0.0004496897745411843\n",
      "step 29, loss:0.00042688031680881977\n",
      "step 30, loss:0.0004058846097905189\n",
      "step 31, loss:0.000386555417208001\n",
      "step 32, loss:0.0003686575510073453\n",
      "step 33, loss:0.0003522030310705304\n",
      "step 34, loss:0.0003370646736584604\n",
      "step 35, loss:0.000323104381095618\n",
      "step 36, loss:0.00031023030169308186\n",
      "step 37, loss:0.0002983475278597325\n",
      "step 38, loss:0.00028741610003635287\n",
      "step 39, loss:0.00027734931791201234\n",
      "step 40, loss:0.000268090603640303\n",
      "step 41, loss:0.00025950116105377674\n",
      "step 42, loss:0.0002515493833925575\n",
      "step 43, loss:0.00024418780230917037\n",
      "step 44, loss:0.00023735033755656332\n",
      "step 45, loss:0.0002309262054041028\n",
      "step 46, loss:0.00022498800535686314\n",
      "step 47, loss:0.00021944829495623708\n",
      "step 48, loss:0.00021422043209895492\n",
      "step 49, loss:0.0002093304938171059\n"
     ]
    }
   ],
   "source": [
    "device = ('cuda' if torch.cuda.is_available() else 'cpu')\n",
    "\n",
    "# 准备小批量数据\n",
    "import tiktoken\n",
    "\n",
    "enc = tiktoken.get_encoding('gpt2')\n",
    "with open('input.txt', 'r') as  f:\n",
    "    text = f.read()\n",
    "\n",
    "data = text[:1000]\n",
    "tokens = enc.encode(data)\n",
    "\n",
    "B, T = 4, 32            # 批量为4， 序列长度为32\n",
    "\n",
    "import torch\n",
    "buf = torch.tensor(tokens[:B*T + 1])     # 先转成tensor格式\n",
    "x = buf[:-1].view(B, T)                 # 小批量的输入，直接调整张量形状就可以做到分出批量了\n",
    "y = buf[1:].view(B, T) \n",
    "\n",
    "x = x.to(device)\n",
    "y = y.to(device)\n",
    "\n",
    "\n",
    "# 参数优化器\n",
    "optimizer = torch.optim.AdamW(model.parameters(), lr=3e-4)\n",
    "\n",
    "\n",
    "# 构建简单训练循环\n",
    "for i in range(50):\n",
    "    optimizer.zero_grad()\n",
    "\n",
    "    logits, loss = model(x, y)\n",
    "    loss.backward()\n",
    "    optimizer.step()\n",
    "    print(f\"step {i}, loss:{loss.item()}\")\n"
   ]
  }
 ],
 "metadata": {
  "kernelspec": {
   "display_name": "gpt2",
   "language": "python",
   "name": "gpt2"
  },
  "language_info": {
   "codemirror_mode": {
    "name": "ipython",
    "version": 3
   },
   "file_extension": ".py",
   "mimetype": "text/x-python",
   "name": "python",
   "nbconvert_exporter": "python",
   "pygments_lexer": "ipython3",
   "version": "3.11.9"
  }
 },
 "nbformat": 4,
 "nbformat_minor": 2
}
